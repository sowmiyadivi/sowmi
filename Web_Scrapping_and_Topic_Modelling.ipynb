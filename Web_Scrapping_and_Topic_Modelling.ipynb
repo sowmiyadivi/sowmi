{
  "nbformat": 4,
  "nbformat_minor": 0,
  "metadata": {
    "colab": {
      "provenance": [],
      "authorship_tag": "ABX9TyPGCfIyKxYS3FgfSgjngi8z",
      "include_colab_link": true
    },
    "kernelspec": {
      "name": "python3",
      "display_name": "Python 3"
    },
    "language_info": {
      "name": "python"
    }
  },
  "cells": [
    {
      "cell_type": "markdown",
      "metadata": {
        "id": "view-in-github",
        "colab_type": "text"
      },
      "source": [
        "<a href=\"https://colab.research.google.com/github/sowmiyadivi/sowmi/blob/main/Web_Scrapping_and_Topic_Modelling.ipynb\" target=\"_parent\"><img src=\"https://colab.research.google.com/assets/colab-badge.svg\" alt=\"Open In Colab\"/></a>"
      ]
    },
    {
      "cell_type": "code",
      "execution_count": 29,
      "metadata": {
        "colab": {
          "base_uri": "https://localhost:8080/"
        },
        "id": "CrAbbUhImcFc",
        "outputId": "e4d0734d-a1f4-487f-9d29-0b06af72601d"
      },
      "outputs": [
        {
          "output_type": "execute_result",
          "data": {
            "text/plain": [
              "['It isn’t just the national capital undergoing\\xa0heatwaves\\xa0― it is now clear that India is experiencing a shift of seasons. The symptoms are extreme weather events reported throughout the country. But the question is, what is our agrarian policy doing to counter it? Is the changing weather even reflected in our policy thinking? Climate-related crop damage is not even covered in the PM crop insurance scheme.\\nBut first, the weather. The effects of this weather transition were felt last year, beginning with the rabi wheat harvests in Punjab and Haryana. Heatwaves and untimely rain hampered the wheat harvests last year and wreaked havoc in central India during kharif, too.\\nThe early onset of summer was reported in Lahaul, Kashmir, and other parts of the country. Rain patterns changed over Meghalaya, India’s wettest state, causing losses to mountain agrarian communities. In southern India down from Telangana, rabi was delayed on account of a longer rainy spell. Many farmers across the country lost out and even had to re-sow, due to excessive moisture in their fields.\\nExperts are quick to correlate the excessive monsoons and heatwaves of previous years to an incoming EL Nino effect, and predict the high probability of droughts, below-average monsoons and more high heat events this year.\\nAlso read: For Second Year in Succession, Indian Agriculture Battles Climate Change\\nThe first signs are already visible with many rabi crops like mustard. Throughout north India, this is the first time mustard has been harvested in February. Usually, it happens around Holi and afterwards. But high temperatures have led to early ripening of the mustard crop. Many parts of Rajasthan harvested mustard in early and mid-February, and also complained of a massive decrease in production.\\nReports from Kashmir are not so rosy either, as mustard growers usually expect the flowers to bloom between March 21 and early April, but this year it happened on March 1-2. Kashmir farmer Irshad Dar believes that these climatic changes will increase pests and lead to lower production.\\nKashmir and neighbouring Himachal Pradesh are experiencing an early winter withdrawal, snow melting and above average temperatures, resulting in early blooming of various fruit trees this year, too.\\nBut it is not only a northern problem. Reports from Kerala are shocking. Temperatures are expected to reach 54°C very soon, endangering farming, biodiversity and life itself. It’s been reported that “major areas of Thiruvananthapuram, Kollam, Alappuzha, Kottayam, Ernakulam, Kozhikode, and Kannur also recorded a heat index of 45-54°C on Thursday.”\\nHeat alerts have also been issued for coastal Maharashtra, where the heat has already taken its first victim: the alphonso mango. Production has fallen 40%. from Telangana to Punjab, rising heat and untimely showers are breeding more pests. The stem borer attacks on Telangana Rabi paddy is a direct result of changing weather.\\nIn UP, ground reports confirm that the arhar dal and chana harvest has been affected by rain. The Indian Meteorological Department has predicted rainfall in many parts. It has rained heavily in Madhya Pradesh, and harvested coriander and mustard lying in the fields have been damaged.\\nWaking up to the imminent weather crisis, the prime minister also announced a special committee meeting to tackle the heat crisis and also announced an increase in the MSP for wheat.\\nAlso read: Kashmir: Saffron Farmers Fight Climate Change with Indoor Farming\\nThe wheat harvest presents the biggest challenge to India’s food security. The rabi sowing was good and now, if there is a heat spike again before harvesting or untimely rain like the El Niño experts are predicting, Indians will be paying more for wheat. If once again we take a 20% hit in production, food inflation is inevitable, and so is malnutrition.\\nIndra Shekhar Singh is former director, policy and outreach, National Seed Association of India. He tweets at @Indrassingh.\\nThis article was first published on The India Cable – a premium newsletter from The Wire & Galileo Ideas – and has been republished here. To subscribe to The India Cable, click\\xa0here.\\n']"
            ]
          },
          "metadata": {},
          "execution_count": 29
        }
      ],
      "source": [
        "import requests\n",
        "from bs4 import BeautifulSoup\n",
        "\n",
        "url = 'https://thewire.in/agriculture/indias-agriculture-is-feeling-the-effects-of-extreme-weather-events'\n",
        "\n",
        "       \n",
        "headers={'user-agent':'Mozilla/5.0 (Windows NT 10.0; Win64; x64) AppleWebKit/537.36 (KHTML, like Gecko) Chrome/106.0.0.0 Safari/537.36'}\n",
        "data=[]\n",
        "\n",
        "#url1\n",
        "response0 = requests.get(url,headers=headers)\n",
        "soup0 = BeautifulSoup(response0.content, 'html.parser')\n",
        "content = soup0.find('div',class_='grey-text').text\n",
        "data.append(content)\n",
        "data\n",
        "\n"
      ]
    },
    {
      "cell_type": "code",
      "source": [
        "!pip install pyLDAvis"
      ],
      "metadata": {
        "colab": {
          "base_uri": "https://localhost:8080/"
        },
        "id": "qKXAuGiamySs",
        "outputId": "f7d5ea29-5c56-47e6-a9ab-7141ae15ac2f"
      },
      "execution_count": 21,
      "outputs": [
        {
          "output_type": "stream",
          "name": "stdout",
          "text": [
            "Looking in indexes: https://pypi.org/simple, https://us-python.pkg.dev/colab-wheels/public/simple/\n",
            "Collecting pyLDAvis\n",
            "  Downloading pyLDAvis-3.4.0-py3-none-any.whl (2.6 MB)\n",
            "\u001b[2K     \u001b[90m━━━━━━━━━━━━━━━━━━━━━━━━━━━━━━━━━━━━━━━━\u001b[0m \u001b[32m2.6/2.6 MB\u001b[0m \u001b[31m27.1 MB/s\u001b[0m eta \u001b[36m0:00:00\u001b[0m\n",
            "\u001b[?25hRequirement already satisfied: jinja2 in /usr/local/lib/python3.9/dist-packages (from pyLDAvis) (3.1.2)\n",
            "Requirement already satisfied: gensim in /usr/local/lib/python3.9/dist-packages (from pyLDAvis) (3.6.0)\n",
            "Collecting funcy\n",
            "  Downloading funcy-1.18-py2.py3-none-any.whl (33 kB)\n",
            "Collecting joblib>=1.2.0\n",
            "  Downloading joblib-1.2.0-py3-none-any.whl (297 kB)\n",
            "\u001b[2K     \u001b[90m━━━━━━━━━━━━━━━━━━━━━━━━━━━━━━━━━━━━━━\u001b[0m \u001b[32m298.0/298.0 KB\u001b[0m \u001b[31m28.7 MB/s\u001b[0m eta \u001b[36m0:00:00\u001b[0m\n",
            "\u001b[?25hRequirement already satisfied: scipy in /usr/local/lib/python3.9/dist-packages (from pyLDAvis) (1.10.1)\n",
            "Requirement already satisfied: pandas>=1.3.4 in /usr/local/lib/python3.9/dist-packages (from pyLDAvis) (1.4.4)\n",
            "Requirement already satisfied: numexpr in /usr/local/lib/python3.9/dist-packages (from pyLDAvis) (2.8.4)\n",
            "Requirement already satisfied: scikit-learn>=1.0.0 in /usr/local/lib/python3.9/dist-packages (from pyLDAvis) (1.2.2)\n",
            "Requirement already satisfied: numpy>=1.22.0 in /usr/local/lib/python3.9/dist-packages (from pyLDAvis) (1.22.4)\n",
            "Requirement already satisfied: setuptools in /usr/local/lib/python3.9/dist-packages (from pyLDAvis) (63.4.3)\n",
            "Requirement already satisfied: python-dateutil>=2.8.1 in /usr/local/lib/python3.9/dist-packages (from pandas>=1.3.4->pyLDAvis) (2.8.2)\n",
            "Requirement already satisfied: pytz>=2020.1 in /usr/local/lib/python3.9/dist-packages (from pandas>=1.3.4->pyLDAvis) (2022.7.1)\n",
            "Requirement already satisfied: threadpoolctl>=2.0.0 in /usr/local/lib/python3.9/dist-packages (from scikit-learn>=1.0.0->pyLDAvis) (3.1.0)\n",
            "Requirement already satisfied: six>=1.5.0 in /usr/local/lib/python3.9/dist-packages (from gensim->pyLDAvis) (1.15.0)\n",
            "Requirement already satisfied: smart-open>=1.2.1 in /usr/local/lib/python3.9/dist-packages (from gensim->pyLDAvis) (6.3.0)\n",
            "Requirement already satisfied: MarkupSafe>=2.0 in /usr/local/lib/python3.9/dist-packages (from jinja2->pyLDAvis) (2.1.2)\n",
            "Installing collected packages: funcy, joblib, pyLDAvis\n",
            "  Attempting uninstall: joblib\n",
            "    Found existing installation: joblib 1.1.1\n",
            "    Uninstalling joblib-1.1.1:\n",
            "      Successfully uninstalled joblib-1.1.1\n",
            "\u001b[31mERROR: pip's dependency resolver does not currently take into account all the packages that are installed. This behaviour is the source of the following dependency conflicts.\n",
            "pandas-profiling 3.2.0 requires joblib~=1.1.0, but you have joblib 1.2.0 which is incompatible.\u001b[0m\u001b[31m\n",
            "\u001b[0mSuccessfully installed funcy-1.18 joblib-1.2.0 pyLDAvis-3.4.0\n"
          ]
        }
      ]
    },
    {
      "cell_type": "code",
      "source": [
        "# Import necessary libraries\n",
        "import gensim\n",
        "from gensim import corpora\n",
        "import pyLDAvis.gensim_models\n",
        "import matplotlib.pyplot as plt\n",
        "from nltk.stem import WordNetLemmatizer\n",
        "from nltk.corpus import stopwords\n",
        "import nltk\n",
        "nltk.download('punkt')\n",
        "nltk.download('stopwords')\n",
        "nltk.download('wordnet')\n",
        "nltk.download('omw-1.4')\n",
        "\n",
        "# Define a function for topic modeling\n",
        "def topic_modeling(text, num_topics=5, num_words=10):\n",
        "    # Tokenize the text\n",
        "    text_tokens = gensim.utils.simple_preprocess(text, deacc=True, min_len=3)\n",
        "    print(text_tokens)\n",
        "    \n",
        "    # Remove stopwords\n",
        "    stop_words = set(stopwords.words('english'))\n",
        "    filtered_tokens = [token for token in text_tokens if token not in stop_words]\n",
        "\n",
        "    # Lemmatize words\n",
        "    lemmatizer = WordNetLemmatizer()\n",
        "    lemmatized_tokens = [lemmatizer.lemmatize(token) for token in filtered_tokens]\n",
        "\n",
        "    # Create a dictionary from the tokenized text\n",
        "    dictionary = corpora.Dictionary([lemmatized_tokens])\n",
        "    \n",
        "    # Create a bag of words from the dictionary\n",
        "    bow_corpus = [dictionary.doc2bow(lemmatized_tokens)]\n",
        "    \n",
        "    # Train the LDA model\n",
        "    lda_model = gensim.models.LdaModel(bow_corpus, num_topics=num_topics, id2word=dictionary, passes=10)\n",
        "    \n",
        "    # Print the top words for each topic\n",
        "    for idx, topic in lda_model.print_topics(num_topics=num_topics, num_words=num_words):\n",
        "        print(\"Topic: {} \\nWords: {}\".format(idx, topic))\n",
        "    \n",
        "    # Visualize the topics\n",
        "    pyLDAvis.enable_notebook()\n",
        "    vis = pyLDAvis.gensim_models.prepare(lda_model, bow_corpus, dictionary, R=30)\n",
        "    return vis\n",
        "\n",
        "# Perform topic modeling and visualization\n",
        "topic_modeling(content)"
      ],
      "metadata": {
        "colab": {
          "base_uri": "https://localhost:8080/",
          "height": 1000
        },
        "id": "jz2SyS8nPVIh",
        "outputId": "fd809299-6db3-4821-a2de-c5344fa71afe"
      },
      "execution_count": 30,
      "outputs": [
        {
          "output_type": "stream",
          "name": "stderr",
          "text": [
            "[nltk_data] Downloading package punkt to /root/nltk_data...\n",
            "[nltk_data]   Unzipping tokenizers/punkt.zip.\n",
            "[nltk_data] Downloading package stopwords to /root/nltk_data...\n",
            "[nltk_data]   Package stopwords is already up-to-date!\n",
            "[nltk_data] Downloading package wordnet to /root/nltk_data...\n",
            "[nltk_data] Downloading package omw-1.4 to /root/nltk_data...\n"
          ]
        },
        {
          "output_type": "stream",
          "name": "stdout",
          "text": [
            "['isn', 'just', 'the', 'national', 'capital', 'undergoing', 'heatwaves', 'now', 'clear', 'that', 'india', 'experiencing', 'shift', 'seasons', 'the', 'symptoms', 'are', 'extreme', 'weather', 'events', 'reported', 'throughout', 'the', 'country', 'but', 'the', 'question', 'what', 'our', 'agrarian', 'policy', 'doing', 'counter', 'the', 'changing', 'weather', 'even', 'reflected', 'our', 'policy', 'thinking', 'climate', 'related', 'crop', 'damage', 'not', 'even', 'covered', 'the', 'crop', 'insurance', 'scheme', 'but', 'first', 'the', 'weather', 'the', 'effects', 'this', 'weather', 'transition', 'were', 'felt', 'last', 'year', 'beginning', 'with', 'the', 'rabi', 'wheat', 'harvests', 'punjab', 'and', 'haryana', 'heatwaves', 'and', 'untimely', 'rain', 'hampered', 'the', 'wheat', 'harvests', 'last', 'year', 'and', 'wreaked', 'havoc', 'central', 'india', 'during', 'kharif', 'too', 'the', 'early', 'onset', 'summer', 'was', 'reported', 'lahaul', 'kashmir', 'and', 'other', 'parts', 'the', 'country', 'rain', 'patterns', 'changed', 'over', 'meghalaya', 'india', 'wettest', 'state', 'causing', 'losses', 'mountain', 'agrarian', 'communities', 'southern', 'india', 'down', 'from', 'telangana', 'rabi', 'was', 'delayed', 'account', 'longer', 'rainy', 'spell', 'many', 'farmers', 'across', 'the', 'country', 'lost', 'out', 'and', 'even', 'had', 'sow', 'due', 'excessive', 'moisture', 'their', 'fields', 'experts', 'are', 'quick', 'correlate', 'the', 'excessive', 'monsoons', 'and', 'heatwaves', 'previous', 'years', 'incoming', 'nino', 'effect', 'and', 'predict', 'the', 'high', 'probability', 'droughts', 'below', 'average', 'monsoons', 'and', 'more', 'high', 'heat', 'events', 'this', 'year', 'also', 'read', 'for', 'second', 'year', 'succession', 'indian', 'agriculture', 'battles', 'climate', 'change', 'the', 'first', 'signs', 'are', 'already', 'visible', 'with', 'many', 'rabi', 'crops', 'like', 'mustard', 'throughout', 'north', 'india', 'this', 'the', 'first', 'time', 'mustard', 'has', 'been', 'harvested', 'february', 'usually', 'happens', 'around', 'holi', 'and', 'afterwards', 'but', 'high', 'temperatures', 'have', 'led', 'early', 'ripening', 'the', 'mustard', 'crop', 'many', 'parts', 'rajasthan', 'harvested', 'mustard', 'early', 'and', 'mid', 'february', 'and', 'also', 'complained', 'massive', 'decrease', 'production', 'reports', 'from', 'kashmir', 'are', 'not', 'rosy', 'either', 'mustard', 'growers', 'usually', 'expect', 'the', 'flowers', 'bloom', 'between', 'march', 'and', 'early', 'april', 'but', 'this', 'year', 'happened', 'march', 'kashmir', 'farmer', 'irshad', 'dar', 'believes', 'that', 'these', 'climatic', 'changes', 'will', 'increase', 'pests', 'and', 'lead', 'lower', 'production', 'kashmir', 'and', 'neighbouring', 'himachal', 'pradesh', 'are', 'experiencing', 'early', 'winter', 'withdrawal', 'snow', 'melting', 'and', 'above', 'average', 'temperatures', 'resulting', 'early', 'blooming', 'various', 'fruit', 'trees', 'this', 'year', 'too', 'but', 'not', 'only', 'northern', 'problem', 'reports', 'from', 'kerala', 'are', 'shocking', 'temperatures', 'are', 'expected', 'reach', 'very', 'soon', 'endangering', 'farming', 'biodiversity', 'and', 'life', 'itself', 'been', 'reported', 'that', 'major', 'areas', 'kollam', 'alappuzha', 'kottayam', 'ernakulam', 'kozhikode', 'and', 'kannur', 'also', 'recorded', 'heat', 'index', 'thursday', 'heat', 'alerts', 'have', 'also', 'been', 'issued', 'for', 'coastal', 'maharashtra', 'where', 'the', 'heat', 'has', 'already', 'taken', 'its', 'first', 'victim', 'the', 'alphonso', 'mango', 'production', 'has', 'fallen', 'from', 'telangana', 'punjab', 'rising', 'heat', 'and', 'untimely', 'showers', 'are', 'breeding', 'more', 'pests', 'the', 'stem', 'borer', 'attacks', 'telangana', 'rabi', 'paddy', 'direct', 'result', 'changing', 'weather', 'ground', 'reports', 'confirm', 'that', 'the', 'arhar', 'dal', 'and', 'chana', 'harvest', 'has', 'been', 'affected', 'rain', 'the', 'indian', 'meteorological', 'department', 'has', 'predicted', 'rainfall', 'many', 'parts', 'has', 'rained', 'heavily', 'madhya', 'pradesh', 'and', 'harvested', 'coriander', 'and', 'mustard', 'lying', 'the', 'fields', 'have', 'been', 'damaged', 'waking', 'the', 'imminent', 'weather', 'crisis', 'the', 'prime', 'minister', 'also', 'announced', 'special', 'committee', 'meeting', 'tackle', 'the', 'heat', 'crisis', 'and', 'also', 'announced', 'increase', 'the', 'msp', 'for', 'wheat', 'also', 'read', 'kashmir', 'saffron', 'farmers', 'fight', 'climate', 'change', 'with', 'indoor', 'farming', 'the', 'wheat', 'harvest', 'presents', 'the', 'biggest', 'challenge', 'india', 'food', 'security', 'the', 'rabi', 'sowing', 'was', 'good', 'and', 'now', 'there', 'heat', 'spike', 'again', 'before', 'harvesting', 'untimely', 'rain', 'like', 'the', 'nino', 'experts', 'are', 'predicting', 'indians', 'will', 'paying', 'more', 'for', 'wheat', 'once', 'again', 'take', 'hit', 'production', 'food', 'inflation', 'inevitable', 'and', 'malnutrition', 'indra', 'shekhar', 'singh', 'former', 'director', 'policy', 'and', 'outreach', 'national', 'seed', 'association', 'india', 'tweets', 'indrassingh', 'this', 'article', 'was', 'first', 'published', 'the', 'india', 'cable', 'premium', 'newsletter', 'from', 'the', 'wire', 'galileo', 'ideas', 'and', 'has', 'been', 'republished', 'here', 'subscribe', 'the', 'india', 'cable', 'click', 'here']\n",
            "Topic: 0 \n",
            "Words: 0.004*\"india\" + 0.004*\"heat\" + 0.004*\"also\" + 0.004*\"kashmir\" + 0.004*\"weather\" + 0.004*\"mustard\" + 0.004*\"year\" + 0.004*\"rabi\" + 0.004*\"early\" + 0.004*\"wheat\"\n",
            "Topic: 1 \n",
            "Words: 0.004*\"also\" + 0.004*\"india\" + 0.004*\"year\" + 0.004*\"mustard\" + 0.004*\"weather\" + 0.004*\"early\" + 0.004*\"kashmir\" + 0.004*\"first\" + 0.004*\"heat\" + 0.004*\"production\"\n",
            "Topic: 2 \n",
            "Words: 0.004*\"heat\" + 0.004*\"year\" + 0.004*\"also\" + 0.004*\"early\" + 0.004*\"first\" + 0.004*\"india\" + 0.004*\"mustard\" + 0.004*\"wheat\" + 0.004*\"weather\" + 0.004*\"rabi\"\n",
            "Topic: 3 \n",
            "Words: 0.004*\"india\" + 0.004*\"also\" + 0.004*\"heat\" + 0.004*\"year\" + 0.004*\"rabi\" + 0.004*\"early\" + 0.004*\"mustard\" + 0.004*\"wheat\" + 0.004*\"crop\" + 0.004*\"weather\"\n",
            "Topic: 4 \n",
            "Words: 0.021*\"india\" + 0.016*\"year\" + 0.016*\"heat\" + 0.016*\"also\" + 0.014*\"weather\" + 0.014*\"early\" + 0.014*\"mustard\" + 0.012*\"first\" + 0.012*\"wheat\" + 0.012*\"rabi\"\n"
          ]
        },
        {
          "output_type": "stream",
          "name": "stderr",
          "text": [
            "/usr/local/lib/python3.9/dist-packages/pyLDAvis/_prepare.py:243: FutureWarning: In a future version of pandas all arguments of DataFrame.drop except for the argument 'labels' will be keyword-only.\n",
            "  default_term_info = default_term_info.sort_values(\n"
          ]
        },
        {
          "output_type": "execute_result",
          "data": {
            "text/plain": [
              "PreparedData(topic_coordinates=              x    y  topics  cluster       Freq\n",
              "topic                                           \n",
              "4     -0.027894 -0.0       1        1  99.797779\n",
              "3      0.006696  0.0       2        1   0.050556\n",
              "1      0.006828 -0.0       3        1   0.050555\n",
              "0      0.007066  0.0       4        1   0.050555\n",
              "2      0.007306 -0.0       5        1   0.050555, topic_info=          Term      Freq     Total Category  logprob  loglift\n",
              "114      india  8.000000  8.000000  Default  30.0000  30.0000\n",
              "10        also  6.000000  6.000000  Default  29.0000  29.0000\n",
              "102       heat  6.000000  6.000000  Default  28.0000  28.0000\n",
              "261       year  6.000000  6.000000  Default  27.0000  27.0000\n",
              "160    mustard  5.000000  5.000000  Default  26.0000  26.0000\n",
              "..         ...       ...       ...      ...      ...      ...\n",
              "170       part  0.000769  2.821473   Topic5  -5.5600  -0.6184\n",
              "238  telangana  0.000768  2.821335   Topic5  -5.5602  -0.6185\n",
              "202   reported  0.000767  2.820659   Topic5  -5.5617  -0.6197\n",
              "103  heatwaves  0.000767  2.820909   Topic5  -5.5619  -0.6201\n",
              "174     policy  0.000767  2.822503   Topic5  -5.5620  -0.6207\n",
              "\n",
              "[329 rows x 6 columns], token_table=      Topic      Freq         Term\n",
              "term                              \n",
              "2         1  0.943130     affected\n",
              "3         1  0.942797   afterwards\n",
              "4         1  1.030487     agrarian\n",
              "5         1  0.943159  agriculture\n",
              "6         1  0.942502    alappuzha\n",
              "...     ...       ...          ...\n",
              "253       1  0.942715       waking\n",
              "254       1  0.914983      weather\n",
              "256       1  1.090899        wheat\n",
              "260       1  0.942883      wreaked\n",
              "261       1  0.945850         year\n",
              "\n",
              "[159 rows x 3 columns], R=30, lambda_step=0.01, plot_opts={'xlab': 'PC1', 'ylab': 'PC2'}, topic_order=[5, 4, 2, 1, 3])"
            ],
            "text/html": [
              "\n",
              "<link rel=\"stylesheet\" type=\"text/css\" href=\"https://cdn.jsdelivr.net/gh/bmabey/pyLDAvis@3.4.0/pyLDAvis/js/ldavis.v1.0.0.css\">\n",
              "\n",
              "\n",
              "<div id=\"ldavis_el2231397778792456484932712372\" style=\"background-color:white;\"></div>\n",
              "<script type=\"text/javascript\">\n",
              "\n",
              "var ldavis_el2231397778792456484932712372_data = {\"mdsDat\": {\"x\": [-0.027894458976437626, 0.006695630215303641, 0.006827708320694762, 0.007065542074346196, 0.007305578366093032], \"y\": [-0.0, 0.0, -0.0, 0.0, -0.0], \"topics\": [1, 2, 3, 4, 5], \"cluster\": [1, 1, 1, 1, 1], \"Freq\": [99.79777906607474, 0.05055580391639056, 0.05055549541578851, 0.05055504721680062, 0.05055458737628059]}, \"tinfo\": {\"Term\": [\"india\", \"also\", \"heat\", \"year\", \"mustard\", \"early\", \"weather\", \"kashmir\", \"rabi\", \"wheat\", \"first\", \"production\", \"many\", \"harvest\", \"crop\", \"rain\", \"reported\", \"heatwaves\", \"harvested\", \"telangana\", \"even\", \"part\", \"farmer\", \"indian\", \"report\", \"temperature\", \"climate\", \"change\", \"policy\", \"untimely\", \"india\", \"year\", \"heat\", \"also\", \"weather\", \"early\", \"mustard\", \"first\", \"wheat\", \"rabi\", \"kashmir\", \"rain\", \"crop\", \"harvest\", \"many\", \"production\", \"country\", \"high\", \"untimely\", \"policy\", \"change\", \"climate\", \"temperature\", \"report\", \"indian\", \"farmer\", \"part\", \"even\", \"telangana\", \"harvested\", \"predicted\", \"succession\", \"meeting\", \"galileo\", \"north\", \"kottayam\", \"rising\", \"southern\", \"heavily\", \"various\", \"expect\", \"question\", \"previous\", \"affected\", \"longer\", \"dal\", \"major\", \"article\", \"mango\", \"ground\", \"tree\", \"hampered\", \"premium\", \"related\", \"fight\", \"recorded\", \"decrease\", \"arhar\", \"agriculture\", \"spike\", \"subscribe\", \"alappuzha\", \"shift\", \"complained\", \"india\", \"also\", \"rabi\", \"heat\", \"early\", \"year\", \"mustard\", \"crop\", \"wheat\", \"harvest\", \"many\", \"rain\", \"production\", \"part\", \"reported\", \"harvested\", \"farmer\", \"heatwaves\", \"telangana\", \"pradesh\", \"weather\", \"report\", \"kashmir\", \"first\", \"even\", \"climate\", \"change\", \"indian\", \"like\", \"national\", \"temperature\", \"policy\", \"flower\", \"scheme\", \"neighbouring\", \"pattern\", \"alphonso\", \"endangering\", \"harvesting\", \"taken\", \"community\", \"drought\", \"sign\", \"ernakulam\", \"coastal\", \"former\", \"state\", \"correlate\", \"director\", \"major\", \"rosy\", \"rainy\", \"idea\", \"affected\", \"fallen\", \"battle\", \"agriculture\", \"predicting\", \"mango\", \"biodiversity\", \"heavily\", \"clear\", \"meghalaya\", \"probability\", \"changed\", \"biggest\", \"singh\", \"victim\", \"also\", \"year\", \"mustard\", \"weather\", \"india\", \"early\", \"kashmir\", \"first\", \"production\", \"heat\", \"usually\", \"many\", \"wheat\", \"crop\", \"rain\", \"telangana\", \"harvest\", \"farmer\", \"heatwaves\", \"policy\", \"even\", \"untimely\", \"high\", \"temperature\", \"excessive\", \"farming\", \"reported\", \"climate\", \"national\", \"change\", \"rabi\", \"indian\", \"country\", \"breeding\", \"ripening\", \"melting\", \"meeting\", \"hampered\", \"department\", \"led\", \"himachal\", \"battle\", \"security\", \"reflected\", \"predicted\", \"challenge\", \"click\", \"rainy\", \"northern\", \"inflation\", \"stem\", \"lahaul\", \"grower\", \"rising\", \"imminent\", \"sowing\", \"climatic\", \"blooming\", \"shocking\", \"thinking\", \"mango\", \"correlate\", \"belief\", \"time\", \"coastal\", \"happens\", \"heat\", \"india\", \"kashmir\", \"also\", \"weather\", \"mustard\", \"rain\", \"year\", \"rabi\", \"wheat\", \"harvest\", \"production\", \"early\", \"temperature\", \"many\", \"reported\", \"first\", \"high\", \"change\", \"farming\", \"policy\", \"harvested\", \"announced\", \"climate\", \"heatwaves\", \"part\", \"report\", \"even\", \"pradesh\", \"untimely\", \"indian\", \"crop\", \"country\", \"seed\", \"confirm\", \"hampered\", \"irshad\", \"result\", \"lying\", \"wreaked\", \"bloom\", \"central\", \"indoor\", \"ground\", \"haryana\", \"sign\", \"mango\", \"attack\", \"department\", \"association\", \"transition\", \"onset\", \"southern\", \"index\", \"insurance\", \"waking\", \"either\", \"alert\", \"predicted\", \"inflation\", \"damage\", \"summer\", \"clear\", \"second\", \"reach\", \"afterwards\", \"rajasthan\", \"heat\", \"year\", \"also\", \"early\", \"first\", \"wheat\", \"mustard\", \"india\", \"rabi\", \"crop\", \"harvest\", \"many\", \"weather\", \"agrarian\", \"harvested\", \"kashmir\", \"high\", \"throughout\", \"indian\", \"country\", \"food\", \"report\", \"field\", \"production\", \"read\", \"untimely\", \"changing\", \"rain\", \"even\", \"part\", \"telangana\", \"reported\", \"heatwaves\", \"policy\"], \"Freq\": [8.0, 6.0, 6.0, 6.0, 5.0, 5.0, 5.0, 4.0, 4.0, 4.0, 4.0, 3.0, 3.0, 3.0, 3.0, 3.0, 2.0, 2.0, 2.0, 2.0, 2.0, 2.0, 2.0, 2.0, 2.0, 2.0, 2.0, 2.0, 2.0, 2.0, 8.103528319288907, 6.3403158529837125, 6.338978036719232, 6.337957419481237, 5.461428573523416, 5.459989429792142, 5.458785615431211, 4.580434343585113, 4.58024380389212, 4.579989016711124, 4.578422846517855, 3.6990469190202293, 3.69883765577359, 3.698096790454786, 3.698072927102099, 3.6974645951728333, 2.820105120977255, 2.819719636049235, 2.819706602987383, 2.8194218948334027, 2.819055317023281, 2.8190035519043755, 2.818897635331296, 2.8186738705087926, 2.8186356891444935, 2.8184679114186793, 2.8183867760195436, 2.8182894869662816, 2.8182483685739594, 2.817909508965805, 0.0007606911882647177, 0.0007605964775126468, 0.0007604874927297043, 0.0007605505402406557, 0.0007604665698831497, 0.0007606007550723869, 0.000760563791376807, 0.000760205592243791, 0.0007601332921851411, 0.0007603049525173184, 0.0007602831927569016, 0.0007602585037979671, 0.0007602491582598393, 0.0007600874943987936, 0.0007602841226611929, 0.0007602299557362236, 0.0007600287709427968, 0.0007601959677343759, 0.0007596449994417695, 0.0007598739418782923, 0.0007598688738999046, 0.0007595944591435364, 0.0007599246681573837, 0.0007599389421882554, 0.0007597491022271828, 0.0007598340024889801, 0.0007600780093750221, 0.0007596881470008867, 0.0007595474059863957, 0.0007599251331095293, 0.0007601948983444409, 0.000759992225704148, 0.0007597317595121496, 0.0007597049782685596, 0.0008278459004900208, 0.0008068838119742567, 0.0007977526167856529, 0.000803611292792248, 0.0007959089885376846, 0.0007982742001026536, 0.0007939414040476833, 0.0007869753980109859, 0.0007900848119802974, 0.0007833417969926582, 0.0007825517503067538, 0.000782454575308311, 0.000782197177800474, 0.0007777612088643819, 0.0007775078099449976, 0.0007769259688299194, 0.0007768025705304615, 0.0007765579127114155, 0.0007763477543415775, 0.0007702651573816329, 0.0007863800732836837, 0.0007758875447078039, 0.0007823361984920261, 0.0007797067081274642, 0.0007749263491370823, 0.0007746096237354592, 0.0007741989780004129, 0.000774083716363504, 0.0007692054384512461, 0.0007689718464932669, 0.0007712426727726671, 0.0007693230248488833, 0.0007615957547630155, 0.0007610410237431184, 0.0007608702478621292, 0.0007608487207091486, 0.0007607605198253379, 0.0007607489425875578, 0.0007606244291627582, 0.0007606367968143626, 0.0007605990894254483, 0.0007606520471516794, 0.00076061406079318, 0.000760294129174044, 0.0007604501661619557, 0.0007603290468671077, 0.0007603318365629583, 0.0007600710000009247, 0.0007602073696330895, 0.0007599561110268097, 0.0007600969441723355, 0.0007600064185419827, 0.0007600371981862013, 0.0007597901241236974, 0.0007601095442985942, 0.0007600076739051155, 0.0007596151636989323, 0.0007598813936729438, 0.0007593535832180052, 0.0007601271193824531, 0.0007594628463054881, 0.0007599709894046797, 0.0007597555318951496, 0.0007598047700269132, 0.0007600025594627226, 0.0007598326204904886, 0.0007598672127190364, 0.0007598709323135039, 0.000806916177158749, 0.0008062896114706983, 0.0008008603983960703, 0.0007996568306162482, 0.0008066036382336171, 0.000796739924634833, 0.0007928837280605117, 0.0007915763835950464, 0.0007843505134027531, 0.0007897959997031764, 0.0007699803251268666, 0.0007799657624545998, 0.0007803826360045451, 0.0007784501671938851, 0.000777740375579624, 0.0007749235731843154, 0.0007766881952946293, 0.0007742971004861263, 0.0007741857451267555, 0.0007737727306560702, 0.0007730050993478394, 0.0007724998854292909, 0.0007723572854763931, 0.0007722004115797262, 0.000768974546782854, 0.0007689079195469548, 0.0007717229086399605, 0.0007714637458954373, 0.0007684118186348517, 0.0007708730277990671, 0.0007741278124429241, 0.0007704351850353113, 0.0007698747351389204, 0.0007621340580893111, 0.0007622242574554798, 0.0007615592463553195, 0.0007611144797899742, 0.0007609634655934195, 0.0007610738435806796, 0.0007610617085113136, 0.0007610551527841848, 0.0007610792834393609, 0.0007609094389627556, 0.00076081021965997, 0.0007604568148237595, 0.0007610051711766429, 0.0007605294857563995, 0.000760618801726714, 0.0007605081447723421, 0.0007603729852066449, 0.000760426872353753, 0.0007607069553340624, 0.000760744197443496, 0.0007605726326697009, 0.000760912647084542, 0.0007603813542200008, 0.0007605201868526708, 0.0007604242686607089, 0.000760490802316888, 0.0007602929216455406, 0.0007598957654672864, 0.0007602175540308191, 0.0007603694051287094, 0.0007604352413671089, 0.0007602724640573374, 0.0007602849245883339, 0.000802806161152267, 0.0008059860142713444, 0.000788398439714968, 0.0007924819602984039, 0.000788137884432489, 0.0007874017832133225, 0.0007798247109935204, 0.0007870439613978409, 0.000782526089021236, 0.0007805138992433754, 0.0007783158708744962, 0.000778118222675742, 0.0007808699542671486, 0.000774356490655839, 0.0007759287028037745, 0.0007728809871066823, 0.0007764148029961941, 0.0007720779337806689, 0.0007717454979723667, 0.0007686626789136985, 0.0007714204547925288, 0.0007712695800795302, 0.0007679694456407214, 0.0007706342789767832, 0.000770474198349093, 0.0007701712400656109, 0.0007701604068427669, 0.0007697747813051363, 0.0007667796509086301, 0.0007695360784464197, 0.0007694595019742136, 0.000769433744010885, 0.0007693834834362313, 0.0007616946377628312, 0.0007620130758245343, 0.0007614147898005899, 0.0007617472225851098, 0.000761596535220826, 0.0007615960237857728, 0.0007615713354209365, 0.000761488854895099, 0.0007615525983003545, 0.000761273494243645, 0.0007610653401770302, 0.0007610346540738438, 0.0007611899908477012, 0.000760706777710706, 0.0007611348488501571, 0.0007609785821943848, 0.0007609925769172017, 0.0007612165854704628, 0.0007610504155722986, 0.0007606847860034224, 0.0007611408000944114, 0.0007610486952907562, 0.0007609287870178504, 0.0007607626171196862, 0.0007606632592370962, 0.0007603172501766209, 0.0007603942908932572, 0.0007605307510642454, 0.0007607095673564503, 0.0007607462976920824, 0.0007607100787915033, 0.0007606163931885932, 0.0007605692481755157, 0.0007605788259592377, 0.0007928641865567613, 0.000791762462464176, 0.0007870728819917537, 0.000784816430537443, 0.0007823762344167794, 0.0007798874519660706, 0.0007812401046933487, 0.0007820195317142847, 0.0007775252729380537, 0.0007755540162669942, 0.0007752374844632163, 0.0007752329745359298, 0.0007780572118873814, 0.0007690957538986385, 0.0007712481980607854, 0.000774979023785014, 0.0007711921726754223, 0.0007682190612294206, 0.0007709144169474892, 0.0007702122166195725, 0.0007669793426606878, 0.0007695971927211627, 0.0007666439342540407, 0.0007715829555500922, 0.0007665110076343284, 0.0007693422191001407, 0.0007662590096354335, 0.0007695111321499534, 0.0007686459700164783, 0.000768545403287399, 0.0007684035033072095, 0.0007672891793146795, 0.0007671130131859318, 0.0007670352750578594], \"Total\": [8.0, 6.0, 6.0, 6.0, 5.0, 5.0, 5.0, 4.0, 4.0, 4.0, 4.0, 3.0, 3.0, 3.0, 3.0, 3.0, 2.0, 2.0, 2.0, 2.0, 2.0, 2.0, 2.0, 2.0, 2.0, 2.0, 2.0, 2.0, 2.0, 2.0, 8.106750774373616, 6.343499223219148, 6.342167114359436, 6.34115077431266, 5.464580805523636, 5.4631477650901195, 5.461949059121562, 4.583564417714248, 4.583374672691313, 4.583120948502312, 4.5815614439079075, 3.7021564498142605, 3.7019480690990725, 3.701210373802411, 3.7011866062922003, 3.700580844042262, 2.823183785087612, 2.8227999511256003, 2.822786955016147, 2.8225034463187577, 2.8221384140405847, 2.822086867640289, 2.821981410952873, 2.821758595185401, 2.821720581964814, 2.8215534901458437, 2.8214727105244815, 2.8213758391660884, 2.8213348846144437, 2.820997483651422, 1.0600868687115585, 1.0603013618959534, 1.0602441534398193, 1.0604266596682546, 1.060386904009534, 1.0606236130480127, 1.0605974756868333, 1.0601480096517637, 1.0600734296195675, 1.0604435678513364, 1.060463037601164, 1.0604342445771415, 1.0604417396961965, 1.0602990743757394, 1.0606258012399674, 1.0605674065830437, 1.0603246623499625, 1.060591623913577, 1.059905455417188, 1.060289851587065, 1.0604073779730638, 1.0601360451648534, 1.0606072555483117, 1.060632107008163, 1.0604320539299696, 1.0605952786941606, 1.0609390961001472, 1.0604581013154093, 1.060267000730896, 1.0608174550545648, 1.0613061323649091, 1.0610055396617974, 1.0606203227934865, 1.0608769542774346, 8.106750774373616, 6.34115077431266, 4.583120948502312, 6.342167114359436, 5.4631477650901195, 6.343499223219148, 5.461949059121562, 3.7019480690990725, 4.583374672691313, 3.701210373802411, 3.7011866062922003, 3.7021564498142605, 3.700580844042262, 2.8214727105244815, 2.8206594995499024, 2.820997483651422, 2.8215534901458437, 2.8209093618659846, 2.8213348846144437, 1.9401685972671967, 5.464580805523636, 2.821758595185401, 4.5815614439079075, 4.583564417714248, 2.8213758391660884, 2.822086867640289, 2.8221384140405847, 2.821720581964814, 1.940921867303618, 1.9407878642193184, 2.821981410952873, 2.8225034463187577, 1.0604263889096734, 1.0603818819673643, 1.0601767965611977, 1.0603953136930553, 1.0605138536014775, 1.060504161212919, 1.060363328771307, 1.0604581946224434, 1.0604762850697298, 1.0605813889918188, 1.0605623872674823, 1.060263890700786, 1.060582124069258, 1.060439822582621, 1.0604942947576066, 1.0603636930262117, 1.0605890710036345, 1.0603246623499625, 1.0605388910777809, 1.0604748332981657, 1.060626362249218, 1.0602990743757394, 1.0607599742201974, 1.060794612392326, 1.060267000730896, 1.0606405240992298, 1.059905455417188, 1.060993478208469, 1.0600734296195675, 1.0607991873446365, 1.0605005952937232, 1.0605961068029413, 1.0609598527659743, 1.0607056823654168, 1.0608557531059823, 1.0609135114125126, 6.34115077431266, 6.343499223219148, 5.461949059121562, 5.464580805523636, 8.106750774373616, 5.4631477650901195, 4.5815614439079075, 4.583564417714248, 3.700580844042262, 6.342167114359436, 1.9407571661710805, 3.7011866062922003, 4.583374672691313, 3.7019480690990725, 3.7021564498142605, 2.8213348846144437, 3.701210373802411, 2.8215534901458437, 2.8209093618659846, 2.8225034463187577, 2.8213758391660884, 2.822786955016147, 2.8227999511256003, 2.821981410952873, 1.9395868021466038, 1.9399788809356167, 2.8206594995499024, 2.822086867640289, 1.9407878642193184, 2.8221384140405847, 4.583120948502312, 2.821720581964814, 2.823183785087612, 1.0602367550117362, 1.0607082578697151, 1.060419083096506, 1.0602441534398193, 1.0601360451648534, 1.0603563952668908, 1.0604377309893063, 1.0605408178675493, 1.060794612392326, 1.0606118311012724, 1.060549496406566, 1.0600868687115585, 1.0609231132252253, 1.0603466050779393, 1.0604748332981657, 1.0603589433574592, 1.0602024831226144, 1.0603104177469607, 1.0607281684631802, 1.0607979995234302, 1.0605974756868333, 1.0610797631803444, 1.0603842582120198, 1.060629925066359, 1.0605378024465422, 1.060691890600381, 1.0604358965803906, 1.059905455417188, 1.0603636930262117, 1.060653691138061, 1.0608394932236767, 1.060582124069258, 1.060797625686197, 6.342167114359436, 8.106750774373616, 4.5815614439079075, 6.34115077431266, 5.464580805523636, 5.461949059121562, 3.7021564498142605, 6.343499223219148, 4.583120948502312, 4.583374672691313, 3.701210373802411, 3.700580844042262, 5.4631477650901195, 2.821981410952873, 3.7011866062922003, 2.8206594995499024, 4.583564417714248, 2.8227999511256003, 2.8221384140405847, 1.9399788809356167, 2.8225034463187577, 2.820997483651422, 1.9414199620710175, 2.822086867640289, 2.8209093618659846, 2.8214727105244815, 2.821758595185401, 2.8213758391660884, 1.9401685972671967, 2.822786955016147, 2.821720581964814, 3.7019480690990725, 2.823183785087612, 1.0603697380357304, 1.0608382205672604, 1.0601360451648534, 1.0606511351255647, 1.0605069174061776, 1.060530495009736, 1.0605772873924129, 1.0604843385134715, 1.060614024199669, 1.0605686011634243, 1.060289851587065, 1.0602999052616904, 1.0605623872674823, 1.059905455417188, 1.0605474029118394, 1.0603563952668908, 1.0603890170009236, 1.0607631782492464, 1.0605460275002896, 1.0601480096517637, 1.0608146286124365, 1.060783106763181, 1.060765831595412, 1.0606968285047995, 1.0605631179912511, 1.0600868687115585, 1.0602024831226144, 1.0604113144419844, 1.0607151065418867, 1.0607991873446365, 1.0608425975069313, 1.0607296369950348, 1.0606737904757515, 1.0607862054900477, 6.342167114359436, 6.343499223219148, 6.34115077431266, 5.4631477650901195, 4.583564417714248, 4.583374672691313, 5.461949059121562, 8.106750774373616, 4.583120948502312, 3.7019480690990725, 3.701210373802411, 3.7011866062922003, 5.464580805523636, 1.9408292158073621, 2.820997483651422, 4.5815614439079075, 2.8227999511256003, 1.9403596391340932, 2.821720581964814, 2.823183785087612, 1.9406955823466268, 2.821758595185401, 1.9409920601158677, 3.700580844042262, 1.9411222093816056, 2.822786955016147, 1.9407292160766867, 3.7021564498142605, 2.8213758391660884, 2.8214727105244815, 2.8213348846144437, 2.8206594995499024, 2.8209093618659846, 2.8225034463187577], \"Category\": [\"Default\", \"Default\", \"Default\", \"Default\", \"Default\", \"Default\", \"Default\", \"Default\", \"Default\", \"Default\", \"Default\", \"Default\", \"Default\", \"Default\", \"Default\", \"Default\", \"Default\", \"Default\", \"Default\", \"Default\", \"Default\", \"Default\", \"Default\", \"Default\", \"Default\", \"Default\", \"Default\", \"Default\", \"Default\", \"Default\", \"Topic1\", \"Topic1\", \"Topic1\", \"Topic1\", \"Topic1\", \"Topic1\", \"Topic1\", \"Topic1\", \"Topic1\", \"Topic1\", \"Topic1\", \"Topic1\", \"Topic1\", \"Topic1\", \"Topic1\", \"Topic1\", \"Topic1\", \"Topic1\", \"Topic1\", \"Topic1\", \"Topic1\", \"Topic1\", \"Topic1\", \"Topic1\", \"Topic1\", \"Topic1\", \"Topic1\", \"Topic1\", \"Topic1\", \"Topic1\", \"Topic2\", \"Topic2\", \"Topic2\", \"Topic2\", \"Topic2\", \"Topic2\", \"Topic2\", \"Topic2\", \"Topic2\", \"Topic2\", \"Topic2\", \"Topic2\", \"Topic2\", \"Topic2\", \"Topic2\", \"Topic2\", \"Topic2\", \"Topic2\", \"Topic2\", \"Topic2\", \"Topic2\", \"Topic2\", \"Topic2\", \"Topic2\", \"Topic2\", \"Topic2\", \"Topic2\", \"Topic2\", \"Topic2\", \"Topic2\", \"Topic2\", \"Topic2\", \"Topic2\", \"Topic2\", \"Topic2\", \"Topic2\", \"Topic2\", \"Topic2\", \"Topic2\", \"Topic2\", \"Topic2\", \"Topic2\", \"Topic2\", \"Topic2\", \"Topic2\", \"Topic2\", \"Topic2\", \"Topic2\", \"Topic2\", \"Topic2\", \"Topic2\", \"Topic2\", \"Topic2\", \"Topic2\", \"Topic2\", \"Topic2\", \"Topic2\", \"Topic2\", \"Topic2\", \"Topic2\", \"Topic2\", \"Topic2\", \"Topic2\", \"Topic2\", \"Topic2\", \"Topic2\", \"Topic3\", \"Topic3\", \"Topic3\", \"Topic3\", \"Topic3\", \"Topic3\", \"Topic3\", \"Topic3\", \"Topic3\", \"Topic3\", \"Topic3\", \"Topic3\", \"Topic3\", \"Topic3\", \"Topic3\", \"Topic3\", \"Topic3\", \"Topic3\", \"Topic3\", \"Topic3\", \"Topic3\", \"Topic3\", \"Topic3\", \"Topic3\", \"Topic3\", \"Topic3\", \"Topic3\", \"Topic3\", \"Topic3\", \"Topic3\", \"Topic3\", \"Topic3\", \"Topic3\", \"Topic3\", \"Topic3\", \"Topic3\", \"Topic3\", \"Topic3\", \"Topic3\", \"Topic3\", \"Topic3\", \"Topic3\", \"Topic3\", \"Topic3\", \"Topic3\", \"Topic3\", \"Topic3\", \"Topic3\", \"Topic3\", \"Topic3\", \"Topic3\", \"Topic3\", \"Topic3\", \"Topic3\", \"Topic3\", \"Topic3\", \"Topic3\", \"Topic3\", \"Topic3\", \"Topic3\", \"Topic3\", \"Topic3\", \"Topic3\", \"Topic3\", \"Topic3\", \"Topic3\", \"Topic3\", \"Topic3\", \"Topic3\", \"Topic4\", \"Topic4\", \"Topic4\", \"Topic4\", \"Topic4\", \"Topic4\", \"Topic4\", \"Topic4\", \"Topic4\", \"Topic4\", \"Topic4\", \"Topic4\", \"Topic4\", \"Topic4\", \"Topic4\", \"Topic4\", \"Topic4\", \"Topic4\", \"Topic4\", \"Topic4\", \"Topic4\", \"Topic4\", \"Topic4\", \"Topic4\", \"Topic4\", \"Topic4\", \"Topic4\", \"Topic4\", \"Topic4\", \"Topic4\", \"Topic4\", \"Topic4\", \"Topic4\", \"Topic4\", \"Topic4\", \"Topic4\", \"Topic4\", \"Topic4\", \"Topic4\", \"Topic4\", \"Topic4\", \"Topic4\", \"Topic4\", \"Topic4\", \"Topic4\", \"Topic4\", \"Topic4\", \"Topic4\", \"Topic4\", \"Topic4\", \"Topic4\", \"Topic4\", \"Topic4\", \"Topic4\", \"Topic4\", \"Topic4\", \"Topic4\", \"Topic4\", \"Topic4\", \"Topic4\", \"Topic4\", \"Topic4\", \"Topic4\", \"Topic4\", \"Topic4\", \"Topic4\", \"Topic5\", \"Topic5\", \"Topic5\", \"Topic5\", \"Topic5\", \"Topic5\", \"Topic5\", \"Topic5\", \"Topic5\", \"Topic5\", \"Topic5\", \"Topic5\", \"Topic5\", \"Topic5\", \"Topic5\", \"Topic5\", \"Topic5\", \"Topic5\", \"Topic5\", \"Topic5\", \"Topic5\", \"Topic5\", \"Topic5\", \"Topic5\", \"Topic5\", \"Topic5\", \"Topic5\", \"Topic5\", \"Topic5\", \"Topic5\", \"Topic5\", \"Topic5\", \"Topic5\", \"Topic5\", \"Topic5\", \"Topic5\", \"Topic5\", \"Topic5\", \"Topic5\", \"Topic5\", \"Topic5\", \"Topic5\", \"Topic5\", \"Topic5\", \"Topic5\", \"Topic5\", \"Topic5\", \"Topic5\", \"Topic5\", \"Topic5\", \"Topic5\", \"Topic5\", \"Topic5\", \"Topic5\", \"Topic5\", \"Topic5\", \"Topic5\", \"Topic5\", \"Topic5\", \"Topic5\", \"Topic5\", \"Topic5\", \"Topic5\", \"Topic5\", \"Topic5\", \"Topic5\", \"Topic5\", \"Topic5\"], \"logprob\": [30.0, 29.0, 28.0, 27.0, 26.0, 25.0, 24.0, 23.0, 22.0, 21.0, 20.0, 19.0, 18.0, 17.0, 16.0, 15.0, 14.0, 13.0, 12.0, 11.0, 10.0, 9.0, 8.0, 7.0, 6.0, 5.0, 4.0, 3.0, 2.0, 1.0, -3.8846, -4.1299, -4.1301, -4.1303, -4.2792, -4.2794, -4.2796, -4.4551, -4.4551, -4.4552, -4.4555, -4.6688, -4.6688, -4.669, -4.669, -4.6692, -4.9401, -4.9402, -4.9402, -4.9403, -4.9405, -4.9405, -4.9405, -4.9406, -4.9406, -4.9407, -4.9407, -4.9407, -4.9407, -4.9409, -5.5703, -5.5704, -5.5706, -5.5705, -5.5706, -5.5704, -5.5705, -5.571, -5.5711, -5.5708, -5.5709, -5.5709, -5.5709, -5.5711, -5.5709, -5.5709, -5.5712, -5.571, -5.5717, -5.5714, -5.5714, -5.5718, -5.5713, -5.5713, -5.5716, -5.5714, -5.5711, -5.5716, -5.5718, -5.5713, -5.571, -5.5712, -5.5716, -5.5716, -5.4857, -5.5114, -5.5228, -5.5154, -5.5251, -5.5221, -5.5275, -5.5364, -5.5324, -5.541, -5.542, -5.5421, -5.5424, -5.5481, -5.5485, -5.5492, -5.5494, -5.5497, -5.5499, -5.5578, -5.5371, -5.5505, -5.5423, -5.5456, -5.5518, -5.5522, -5.5527, -5.5529, -5.5592, -5.5595, -5.5565, -5.559, -5.5691, -5.5699, -5.5701, -5.5701, -5.5702, -5.5702, -5.5704, -5.5704, -5.5704, -5.5704, -5.5704, -5.5708, -5.5706, -5.5708, -5.5708, -5.5711, -5.571, -5.5713, -5.5711, -5.5712, -5.5712, -5.5715, -5.5711, -5.5712, -5.5717, -5.5714, -5.5721, -5.5711, -5.5719, -5.5713, -5.5715, -5.5715, -5.5712, -5.5714, -5.5714, -5.5714, -5.5113, -5.5121, -5.5189, -5.5204, -5.5117, -5.524, -5.5289, -5.5305, -5.5397, -5.5328, -5.5582, -5.5453, -5.5448, -5.5472, -5.5481, -5.5518, -5.5495, -5.5526, -5.5527, -5.5533, -5.5543, -5.5549, -5.5551, -5.5553, -5.5595, -5.5596, -5.5559, -5.5563, -5.5602, -5.557, -5.5528, -5.5576, -5.5583, -5.5684, -5.5683, -5.5692, -5.5697, -5.5699, -5.5698, -5.5698, -5.5698, -5.5698, -5.57, -5.5701, -5.5706, -5.5699, -5.5705, -5.5704, -5.5705, -5.5707, -5.5707, -5.5703, -5.5702, -5.5705, -5.57, -5.5707, -5.5705, -5.5707, -5.5706, -5.5708, -5.5714, -5.5709, -5.5707, -5.5706, -5.5709, -5.5708, -5.5164, -5.5125, -5.5345, -5.5294, -5.5349, -5.5358, -5.5455, -5.5362, -5.542, -5.5446, -5.5474, -5.5477, -5.5441, -5.5525, -5.5505, -5.5544, -5.5498, -5.5554, -5.5559, -5.5599, -5.5563, -5.5565, -5.5608, -5.5573, -5.5575, -5.5579, -5.5579, -5.5584, -5.5623, -5.5587, -5.5588, -5.5589, -5.5589, -5.569, -5.5686, -5.5693, -5.5689, -5.5691, -5.5691, -5.5691, -5.5692, -5.5692, -5.5695, -5.5698, -5.5698, -5.5696, -5.5703, -5.5697, -5.5699, -5.5699, -5.5696, -5.5698, -5.5703, -5.5697, -5.5698, -5.57, -5.5702, -5.5703, -5.5708, -5.5707, -5.5705, -5.5703, -5.5702, -5.5703, -5.5704, -5.5705, -5.5704, -5.5289, -5.5303, -5.5362, -5.5391, -5.5422, -5.5454, -5.5436, -5.5426, -5.5484, -5.5509, -5.5514, -5.5514, -5.5477, -5.5593, -5.5565, -5.5517, -5.5566, -5.5604, -5.5569, -5.5579, -5.5621, -5.5587, -5.5625, -5.5561, -5.5627, -5.559, -5.563, -5.5588, -5.5599, -5.56, -5.5602, -5.5617, -5.5619, -5.562], \"loglift\": [30.0, 29.0, 28.0, 27.0, 26.0, 25.0, 24.0, 23.0, 22.0, 21.0, 20.0, 19.0, 18.0, 17.0, 16.0, 15.0, 14.0, 13.0, 12.0, 11.0, 10.0, 9.0, 8.0, 7.0, 6.0, 5.0, 4.0, 3.0, 2.0, 1.0, 0.0016, 0.0015, 0.0015, 0.0015, 0.0014, 0.0014, 0.0014, 0.0013, 0.0013, 0.0013, 0.0013, 0.0012, 0.0012, 0.0012, 0.0012, 0.0012, 0.0009, 0.0009, 0.0009, 0.0009, 0.0009, 0.0009, 0.0009, 0.0009, 0.0009, 0.0009, 0.0009, 0.0009, 0.0009, 0.0009, 0.3502, 0.3499, 0.3498, 0.3497, 0.3496, 0.3496, 0.3496, 0.3495, 0.3495, 0.3494, 0.3493, 0.3493, 0.3493, 0.3492, 0.3492, 0.3492, 0.3491, 0.3491, 0.349, 0.3489, 0.3488, 0.3487, 0.3487, 0.3487, 0.3486, 0.3486, 0.3486, 0.3485, 0.3485, 0.3485, 0.3484, 0.3484, 0.3484, 0.3482, -1.5995, -1.3795, -1.0662, -1.3838, -1.2442, -1.3906, -1.2465, -0.8663, -1.076, -0.8708, -0.8718, -0.8721, -0.872, -0.6065, -0.6065, -0.6074, -0.6078, -0.6079, -0.6083, -0.2417, -1.2565, -0.609, -1.0854, -1.0892, -0.6101, -0.6108, -0.6113, -0.6113, -0.2435, -0.2437, -0.6151, -0.6178, 0.3511, 0.3504, 0.3504, 0.3501, 0.3499, 0.3499, 0.3499, 0.3498, 0.3497, 0.3497, 0.3497, 0.3495, 0.3494, 0.3494, 0.3494, 0.3491, 0.3491, 0.349, 0.349, 0.349, 0.3489, 0.3488, 0.3488, 0.3487, 0.3486, 0.3486, 0.3486, 0.3486, 0.3486, 0.3486, 0.3486, 0.3486, 0.3485, 0.3485, 0.3484, 0.3484, -1.3795, -1.3806, -1.2378, -1.2398, -1.6255, -1.2432, -1.072, -1.0741, -0.8693, -1.4011, -0.2424, -0.8751, -1.0883, -0.8772, -0.8782, -0.6101, -0.8793, -0.611, -0.6109, -0.612, -0.6126, -0.6137, -0.6139, -0.6139, -0.2431, -0.2434, -0.614, -0.6148, -0.2444, -0.6156, -1.0963, -0.616, -0.6173, 0.352, 0.3517, 0.3511, 0.3506, 0.3505, 0.3505, 0.3504, 0.3503, 0.3501, 0.35, 0.3499, 0.3499, 0.3499, 0.3498, 0.3498, 0.3497, 0.3497, 0.3497, 0.3496, 0.3496, 0.3496, 0.3496, 0.3495, 0.3495, 0.3495, 0.3494, 0.3494, 0.3494, 0.3493, 0.3493, 0.3492, 0.3492, 0.349, -1.3848, -1.6263, -1.0777, -1.3975, -1.2543, -1.2547, -0.8755, -1.4048, -1.0855, -1.0881, -0.8772, -0.8773, -1.2633, -0.6111, -0.8802, -0.6125, -1.0934, -0.6143, -0.6145, -0.2437, -0.615, -0.6147, -0.2453, -0.6159, -0.6157, -0.6163, -0.6164, -0.6168, -0.2462, -0.6176, -0.6173, -0.8889, -0.6179, 0.3513, 0.3513, 0.3511, 0.3511, 0.351, 0.351, 0.3509, 0.3509, 0.3509, 0.3505, 0.3505, 0.3505, 0.3504, 0.3504, 0.3504, 0.3504, 0.3503, 0.3503, 0.3503, 0.3502, 0.3501, 0.3501, 0.3499, 0.3498, 0.3498, 0.3497, 0.3497, 0.3497, 0.3497, 0.3496, 0.3496, 0.3495, 0.3495, 0.3494, -1.3972, -1.3988, -1.4044, -1.2582, -1.0858, -1.0889, -1.2626, -1.6565, -1.0919, -0.8809, -0.8811, -0.8811, -1.2671, -0.2435, -0.6147, -1.0948, -0.6154, -0.2444, -0.6154, -0.6168, -0.2462, -0.6171, -0.2468, -0.8857, -0.2471, -0.6178, -0.2472, -0.8888, -0.6182, -0.6184, -0.6185, -0.6197, -0.6201, -0.6207]}, \"token.table\": {\"Topic\": [1, 1, 1, 1, 1, 1, 1, 1, 1, 1, 1, 1, 1, 1, 1, 1, 1, 1, 1, 1, 1, 1, 1, 1, 1, 1, 1, 1, 1, 1, 1, 1, 1, 1, 1, 1, 1, 1, 1, 1, 1, 1, 1, 1, 1, 1, 1, 1, 1, 1, 1, 1, 1, 1, 1, 1, 1, 1, 1, 1, 1, 1, 1, 1, 1, 1, 1, 1, 1, 1, 1, 1, 1, 1, 1, 1, 1, 1, 1, 1, 1, 1, 1, 1, 1, 1, 1, 1, 1, 1, 1, 1, 1, 1, 1, 1, 1, 1, 1, 1, 1, 1, 1, 1, 1, 1, 1, 1, 1, 1, 1, 1, 1, 1, 1, 1, 1, 1, 1, 1, 1, 1, 1, 1, 1, 1, 1, 1, 1, 1, 1, 1, 1, 1, 1, 1, 1, 1, 1, 1, 1, 1, 1, 1, 1, 1, 1, 1, 1, 1, 1, 1, 1, 1, 1, 1, 1, 1, 1], \"Freq\": [0.9431301263643552, 0.9427969362300005, 1.0304873729799164, 0.9431586565559892, 0.9425021478386971, 0.9428953195110537, 0.9429391201293844, 0.9462004947596221, 1.0301738104446458, 0.9429886939989274, 0.9428699769568287, 0.9430501296856878, 0.9429092912343188, 0.9426895539606666, 0.9428148021877142, 0.9427685894639117, 0.942512862273707, 0.9429653637334663, 0.9429178268734144, 0.9431855623501098, 0.9428500634381033, 0.9425753737798982, 1.0630236933364168, 0.9425427337263997, 1.030540470784035, 0.9426854883846325, 0.9430878499643958, 1.0630431098347, 0.9428359283163111, 0.9428784224301128, 0.9429725247785684, 0.9426163854045656, 0.9426508025561819, 0.9430726519370561, 1.0626300759611726, 1.0805121858377293, 0.9428915067471468, 0.9430303000173339, 0.9425611740352012, 0.9430791425068935, 0.942872246508915, 0.9428790759289044, 0.9152232769449026, 0.9427764589525923, 0.942947738042141, 0.9431614230859505, 1.0633110124338159, 1.0311474576886865, 0.9429843045374451, 0.9427203366483882, 1.0632440641219008, 1.0309390579733715, 1.0304009177042228, 0.9430118566239034, 1.0908540917798253, 0.9430168943911291, 1.0305583308339705, 0.9430049482341917, 0.9430166536107659, 0.9431383300549169, 0.9426865439501733, 0.943275162240614, 0.9426868761637085, 1.0807275447816898, 1.063453624962785, 0.9430729759003899, 0.9431293872965046, 0.9460488649716076, 1.0634868459635831, 0.9433308788419249, 1.0627745684931518, 0.9429151458882272, 0.9428390954561504, 0.9424362189348785, 0.9426717666101729, 0.9868318667559057, 1.0631811027550597, 0.9428904447133531, 0.9432160515741295, 0.9426997787053271, 0.9428170742320616, 1.0913309929846056, 0.9428415393526899, 0.9427486039602726, 0.9430068082046434, 1.0304381818205053, 0.9428395941630966, 0.9429243239166071, 0.943107366552932, 0.9434803782629756, 1.0807344847730191, 0.9431789807617753, 0.9429509086914123, 0.9430233913557294, 0.9154241363071489, 1.0305093291607632, 0.9432389043446453, 0.9430520088646899, 0.9430768762449986, 0.9429105140839603, 1.063274505122657, 0.9430445297964251, 1.062886213270259, 1.0308382492207524, 0.9433189199064518, 0.9428265065105541, 0.942856080579065, 0.9430032434280526, 0.9428659916680233, 1.0809113943395634, 0.9430099085481342, 1.090959644351938, 1.080451367796918, 0.9429738156915201, 0.9426970249278774, 0.942747298767783, 1.0303318309037077, 0.9428667278542221, 0.9429074299580318, 0.9428339887058536, 1.0631667801486355, 1.0635810527568872, 0.9429452873780706, 0.9427663003287641, 0.9428647747369087, 0.9429168589788747, 0.9430564752244394, 0.9426469132650626, 0.9428520130325748, 0.9430672756207079, 0.9428444642340783, 0.9427808479180247, 0.9428959691626251, 0.9426352235656843, 0.9432645167427886, 0.9430543619028847, 0.9426692549554282, 0.9429565108868091, 0.9431200366067198, 0.9422352038725145, 0.9431280916322442, 0.942760213211417, 0.9429886110277375, 1.0633264474769972, 1.0630828354702084, 0.9430084394773135, 1.0307367560441125, 0.9426496716870921, 0.94271748916706, 0.943033800756337, 1.06277946150663, 1.0305256293067306, 0.9430016177345422, 0.9425839045716257, 0.9427151311010659, 0.914983267325092, 1.0908992515473426, 0.9428827223508142, 0.9458501985841135], \"Term\": [\"affected\", \"afterwards\", \"agrarian\", \"agriculture\", \"alappuzha\", \"alert\", \"alphonso\", \"also\", \"announced\", \"arhar\", \"article\", \"association\", \"attack\", \"battle\", \"belief\", \"biggest\", \"biodiversity\", \"bloom\", \"blooming\", \"breeding\", \"central\", \"challenge\", \"change\", \"changed\", \"changing\", \"clear\", \"click\", \"climate\", \"climatic\", \"coastal\", \"community\", \"complained\", \"confirm\", \"correlate\", \"country\", \"crop\", \"dal\", \"damage\", \"decrease\", \"department\", \"director\", \"drought\", \"early\", \"either\", \"endangering\", \"ernakulam\", \"even\", \"excessive\", \"expect\", \"fallen\", \"farmer\", \"farming\", \"field\", \"fight\", \"first\", \"flower\", \"food\", \"former\", \"galileo\", \"ground\", \"grower\", \"hampered\", \"happens\", \"harvest\", \"harvested\", \"harvesting\", \"haryana\", \"heat\", \"heatwaves\", \"heavily\", \"high\", \"himachal\", \"idea\", \"imminent\", \"index\", \"india\", \"indian\", \"indoor\", \"inflation\", \"insurance\", \"irshad\", \"kashmir\", \"kottayam\", \"lahaul\", \"led\", \"like\", \"longer\", \"lying\", \"major\", \"mango\", \"many\", \"meeting\", \"meghalaya\", \"melting\", \"mustard\", \"national\", \"neighbouring\", \"north\", \"northern\", \"onset\", \"part\", \"pattern\", \"policy\", \"pradesh\", \"predicted\", \"predicting\", \"premium\", \"previous\", \"probability\", \"production\", \"question\", \"rabi\", \"rain\", \"rainy\", \"rajasthan\", \"reach\", \"read\", \"recorded\", \"reflected\", \"related\", \"report\", \"reported\", \"result\", \"ripening\", \"rising\", \"rosy\", \"scheme\", \"second\", \"security\", \"seed\", \"shift\", \"shocking\", \"sign\", \"singh\", \"southern\", \"sowing\", \"spike\", \"state\", \"stem\", \"subscribe\", \"succession\", \"summer\", \"taken\", \"telangana\", \"temperature\", \"thinking\", \"throughout\", \"time\", \"transition\", \"tree\", \"untimely\", \"usually\", \"various\", \"victim\", \"waking\", \"weather\", \"wheat\", \"wreaked\", \"year\"]}, \"R\": 30, \"lambda.step\": 0.01, \"plot.opts\": {\"xlab\": \"PC1\", \"ylab\": \"PC2\"}, \"topic.order\": [5, 4, 2, 1, 3]};\n",
              "\n",
              "function LDAvis_load_lib(url, callback){\n",
              "  var s = document.createElement('script');\n",
              "  s.src = url;\n",
              "  s.async = true;\n",
              "  s.onreadystatechange = s.onload = callback;\n",
              "  s.onerror = function(){console.warn(\"failed to load library \" + url);};\n",
              "  document.getElementsByTagName(\"head\")[0].appendChild(s);\n",
              "}\n",
              "\n",
              "if(typeof(LDAvis) !== \"undefined\"){\n",
              "   // already loaded: just create the visualization\n",
              "   !function(LDAvis){\n",
              "       new LDAvis(\"#\" + \"ldavis_el2231397778792456484932712372\", ldavis_el2231397778792456484932712372_data);\n",
              "   }(LDAvis);\n",
              "}else if(typeof define === \"function\" && define.amd){\n",
              "   // require.js is available: use it to load d3/LDAvis\n",
              "   require.config({paths: {d3: \"https://d3js.org/d3.v5\"}});\n",
              "   require([\"d3\"], function(d3){\n",
              "      window.d3 = d3;\n",
              "      LDAvis_load_lib(\"https://cdn.jsdelivr.net/gh/bmabey/pyLDAvis@3.4.0/pyLDAvis/js/ldavis.v3.0.0.js\", function(){\n",
              "        new LDAvis(\"#\" + \"ldavis_el2231397778792456484932712372\", ldavis_el2231397778792456484932712372_data);\n",
              "      });\n",
              "    });\n",
              "}else{\n",
              "    // require.js not available: dynamically load d3 & LDAvis\n",
              "    LDAvis_load_lib(\"https://d3js.org/d3.v5.js\", function(){\n",
              "         LDAvis_load_lib(\"https://cdn.jsdelivr.net/gh/bmabey/pyLDAvis@3.4.0/pyLDAvis/js/ldavis.v3.0.0.js\", function(){\n",
              "                 new LDAvis(\"#\" + \"ldavis_el2231397778792456484932712372\", ldavis_el2231397778792456484932712372_data);\n",
              "            })\n",
              "         });\n",
              "}\n",
              "</script>"
            ]
          },
          "metadata": {},
          "execution_count": 30
        }
      ]
    }
  ]
}